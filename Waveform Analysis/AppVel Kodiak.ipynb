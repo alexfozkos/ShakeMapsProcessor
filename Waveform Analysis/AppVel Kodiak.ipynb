{
 "cells": [
  {
   "cell_type": "code",
   "execution_count": 1,
   "id": "272c0103-ad46-4e4a-8b8b-a8be79c64d90",
   "metadata": {
    "tags": []
   },
   "outputs": [],
   "source": [
    "import matplotlib.pyplot as plt\n",
    "import numpy as np\n",
    "import pandas as pd\n",
    "import time\n",
    "import os\n",
    "import sys\n",
    "module_path = os.path.abspath(os.path.join('..'))\n",
    "if module_path not in sys.path:\n",
    "    sys.path.append(module_path)\n",
    "import UsefulFunctions as uf\n",
    "from obspy import UTCDateTime\n",
    "from obspy import Trace\n",
    "from obspy import Stream\n",
    "from obspy.clients.fdsn import Client\n",
    "from obspy.core.inventory.inventory import Inventory\n",
    "from obspy.signal.filter import envelope, lowpass\n",
    "from obspy.clients.fdsn.header import FDSNNoDataException\n",
    "from obspy import read, read_inventory\n",
    "client = Client(\"IRIS\")\n",
    "\n"
   ]
  },
  {
   "cell_type": "code",
   "execution_count": 2,
   "id": "8d85c996-8789-4c10-8aa7-053a017b98de",
   "metadata": {
    "tags": []
   },
   "outputs": [
    {
     "name": "stdout",
     "output_type": "stream",
     "text": [
      "Start of Parsing for grids/Kodiak.xml\n",
      "   ~~Detection stats~~\n",
      "    Used a maximum azimuthal gap of 300 degrees and minimum station vector angle of 30 km\n",
      "    Number of stations needed: 7\n",
      "    Detection Time: 61.276925466123004\n",
      "    Azimuthal Gap: 286.3462637612685\n",
      "    Max Vector Angle: 73.60217692865585\n",
      "    Maximum Epicentral Distance: 410.31320595458766\n",
      "Finished parsing grid.xml for: M7.9, 280km SE of Kodiak, Alaska, at 2018-01-23T09:31:40 (ID:us2000cmy3)\n"
     ]
    }
   ],
   "source": [
    "EV_NAME = 'Kodiak'\n",
    "# Earthquake variables\n",
    "# eq = uf.Earthquake(f'{uf.DATA_PATH}/AncScenarioGrids/Anc2018.xml')\n",
    "eq = uf.Earthquake(f'grids/{EV_NAME}.xml')\n",
    "eq_lat = eq.event['lat']\n",
    "eq_lon = eq.event['lon']\n",
    "eq_dep = eq.event['depth']\n"
   ]
  },
  {
   "cell_type": "code",
   "execution_count": 3,
   "id": "edad9f82-097f-4571-b3f3-c3ccdf7c0dbf",
   "metadata": {
    "tags": []
   },
   "outputs": [],
   "source": [
    "\n",
    "# ObsPY variables\n",
    "station_data = {}\n",
    "\n",
    "or_time = '2018-01-23T09:31:40'\n",
    "or_time = UTCDateTime(or_time)\n",
    "starttime = or_time\n",
    "endtime = or_time + 180\n",
    "\n",
    "network = 'NP'\n",
    "stations = '8051'\n",
    "# stations = stations.split(',')\n",
    "\n",
    "channel = 'HN?'\n",
    "location = '*'\n"
   ]
  },
  {
   "cell_type": "code",
   "execution_count": 4,
   "id": "90563575-951d-4fb3-894e-58dde429c994",
   "metadata": {
    "tags": []
   },
   "outputs": [
    {
     "ename": "FDSNNoDataException",
     "evalue": "No data available for request.\nHTTP Status code: 204\nDetailed response of server:\n\n",
     "output_type": "error",
     "traceback": [
      "\u001b[0;31m---------------------------------------------------------------------------\u001b[0m",
      "\u001b[0;31mFDSNNoDataException\u001b[0m                       Traceback (most recent call last)",
      "Cell \u001b[0;32mIn[4], line 2\u001b[0m\n\u001b[1;32m      1\u001b[0m \u001b[38;5;66;03m# Download data\u001b[39;00m\n\u001b[0;32m----> 2\u001b[0m st \u001b[38;5;241m=\u001b[39m \u001b[43mclient\u001b[49m\u001b[38;5;241;43m.\u001b[39;49m\u001b[43mget_waveforms\u001b[49m\u001b[43m(\u001b[49m\u001b[43mnetwork\u001b[49m\u001b[38;5;241;43m=\u001b[39;49m\u001b[43mnetwork\u001b[49m\u001b[43m,\u001b[49m\u001b[43m \u001b[49m\u001b[43mstation\u001b[49m\u001b[38;5;241;43m=\u001b[39;49m\u001b[43mstations\u001b[49m\u001b[43m,\u001b[49m\u001b[43m \u001b[49m\u001b[43mlocation\u001b[49m\u001b[38;5;241;43m=\u001b[39;49m\u001b[38;5;124;43m'\u001b[39;49m\u001b[38;5;124;43m*\u001b[39;49m\u001b[38;5;124;43m'\u001b[39;49m\u001b[43m,\u001b[49m\u001b[43m \u001b[49m\u001b[43mchannel\u001b[49m\u001b[38;5;241;43m=\u001b[39;49m\u001b[43mchannel\u001b[49m\u001b[43m,\u001b[49m\u001b[43m \u001b[49m\u001b[43mstarttime\u001b[49m\u001b[38;5;241;43m=\u001b[39;49m\u001b[43mstarttime\u001b[49m\u001b[43m,\u001b[49m\u001b[43m \u001b[49m\u001b[43mendtime\u001b[49m\u001b[38;5;241;43m=\u001b[39;49m\u001b[43mendtime\u001b[49m\u001b[43m)\u001b[49m\n\u001b[1;32m      3\u001b[0m inv \u001b[38;5;241m=\u001b[39m client\u001b[38;5;241m.\u001b[39mget_stations(network\u001b[38;5;241m=\u001b[39mnetwork, station\u001b[38;5;241m=\u001b[39mstations, location\u001b[38;5;241m=\u001b[39m\u001b[38;5;124m\"\u001b[39m\u001b[38;5;124m*\u001b[39m\u001b[38;5;124m\"\u001b[39m, channel\u001b[38;5;241m=\u001b[39mchannel, starttime\u001b[38;5;241m=\u001b[39mstarttime,\n\u001b[1;32m      4\u001b[0m                                          endtime\u001b[38;5;241m=\u001b[39mendtime, level\u001b[38;5;241m=\u001b[39m\u001b[38;5;124m'\u001b[39m\u001b[38;5;124mresponse\u001b[39m\u001b[38;5;124m'\u001b[39m)\n",
      "File \u001b[0;32m~/opt/miniconda3/envs/ShakeMaps/lib/python3.9/site-packages/obspy/clients/fdsn/client.py:872\u001b[0m, in \u001b[0;36mClient.get_waveforms\u001b[0;34m(self, network, station, location, channel, starttime, endtime, quality, minimumlength, longestonly, filename, attach_response, **kwargs)\u001b[0m\n\u001b[1;32m    867\u001b[0m url \u001b[38;5;241m=\u001b[39m \u001b[38;5;28mself\u001b[39m\u001b[38;5;241m.\u001b[39m_create_url_from_parameters(\n\u001b[1;32m    868\u001b[0m     \u001b[38;5;124m\"\u001b[39m\u001b[38;5;124mdataselect\u001b[39m\u001b[38;5;124m\"\u001b[39m, DEFAULT_PARAMETERS[\u001b[38;5;124m'\u001b[39m\u001b[38;5;124mdataselect\u001b[39m\u001b[38;5;124m'\u001b[39m], kwargs)\n\u001b[1;32m    870\u001b[0m \u001b[38;5;66;03m# Gzip not worth it for MiniSEED and most likely disabled for this\u001b[39;00m\n\u001b[1;32m    871\u001b[0m \u001b[38;5;66;03m# route in any case.\u001b[39;00m\n\u001b[0;32m--> 872\u001b[0m data_stream \u001b[38;5;241m=\u001b[39m \u001b[38;5;28;43mself\u001b[39;49m\u001b[38;5;241;43m.\u001b[39;49m\u001b[43m_download\u001b[49m\u001b[43m(\u001b[49m\u001b[43murl\u001b[49m\u001b[43m,\u001b[49m\u001b[43m \u001b[49m\u001b[43muse_gzip\u001b[49m\u001b[38;5;241;43m=\u001b[39;49m\u001b[38;5;28;43;01mFalse\u001b[39;49;00m\u001b[43m)\u001b[49m\n\u001b[1;32m    873\u001b[0m data_stream\u001b[38;5;241m.\u001b[39mseek(\u001b[38;5;241m0\u001b[39m, \u001b[38;5;241m0\u001b[39m)\n\u001b[1;32m    874\u001b[0m \u001b[38;5;28;01mif\u001b[39;00m filename:\n",
      "File \u001b[0;32m~/opt/miniconda3/envs/ShakeMaps/lib/python3.9/site-packages/obspy/clients/fdsn/client.py:1486\u001b[0m, in \u001b[0;36mClient._download\u001b[0;34m(self, url, return_string, data, use_gzip, content_type)\u001b[0m\n\u001b[1;32m   1481\u001b[0m     headers[\u001b[38;5;124m'\u001b[39m\u001b[38;5;124mContent-Type\u001b[39m\u001b[38;5;124m'\u001b[39m] \u001b[38;5;241m=\u001b[39m content_type\n\u001b[1;32m   1482\u001b[0m code, data \u001b[38;5;241m=\u001b[39m download_url(\n\u001b[1;32m   1483\u001b[0m     url, opener\u001b[38;5;241m=\u001b[39m\u001b[38;5;28mself\u001b[39m\u001b[38;5;241m.\u001b[39m_url_opener, headers\u001b[38;5;241m=\u001b[39mheaders,\n\u001b[1;32m   1484\u001b[0m     debug\u001b[38;5;241m=\u001b[39m\u001b[38;5;28mself\u001b[39m\u001b[38;5;241m.\u001b[39mdebug, return_string\u001b[38;5;241m=\u001b[39mreturn_string, data\u001b[38;5;241m=\u001b[39mdata,\n\u001b[1;32m   1485\u001b[0m     timeout\u001b[38;5;241m=\u001b[39m\u001b[38;5;28mself\u001b[39m\u001b[38;5;241m.\u001b[39mtimeout, use_gzip\u001b[38;5;241m=\u001b[39muse_gzip)\n\u001b[0;32m-> 1486\u001b[0m \u001b[43mraise_on_error\u001b[49m\u001b[43m(\u001b[49m\u001b[43mcode\u001b[49m\u001b[43m,\u001b[49m\u001b[43m \u001b[49m\u001b[43mdata\u001b[49m\u001b[43m)\u001b[49m\n\u001b[1;32m   1487\u001b[0m \u001b[38;5;28;01mreturn\u001b[39;00m data\n",
      "File \u001b[0;32m~/opt/miniconda3/envs/ShakeMaps/lib/python3.9/site-packages/obspy/clients/fdsn/client.py:1813\u001b[0m, in \u001b[0;36mraise_on_error\u001b[0;34m(code, data)\u001b[0m\n\u001b[1;32m   1811\u001b[0m \u001b[38;5;66;03m# No data.\u001b[39;00m\n\u001b[1;32m   1812\u001b[0m \u001b[38;5;28;01mif\u001b[39;00m code \u001b[38;5;241m==\u001b[39m \u001b[38;5;241m204\u001b[39m:\n\u001b[0;32m-> 1813\u001b[0m     \u001b[38;5;28;01mraise\u001b[39;00m FDSNNoDataException(\u001b[38;5;124m\"\u001b[39m\u001b[38;5;124mNo data available for request.\u001b[39m\u001b[38;5;124m\"\u001b[39m,\n\u001b[1;32m   1814\u001b[0m                               server_info)\n\u001b[1;32m   1815\u001b[0m \u001b[38;5;28;01melif\u001b[39;00m code \u001b[38;5;241m==\u001b[39m \u001b[38;5;241m400\u001b[39m:\n\u001b[1;32m   1816\u001b[0m     msg \u001b[38;5;241m=\u001b[39m (\u001b[38;5;124m\"\u001b[39m\u001b[38;5;124mBad request. If you think your request was valid \u001b[39m\u001b[38;5;124m\"\u001b[39m\n\u001b[1;32m   1817\u001b[0m            \u001b[38;5;124m\"\u001b[39m\u001b[38;5;124mplease contact the developers.\u001b[39m\u001b[38;5;124m\"\u001b[39m)\n",
      "\u001b[0;31mFDSNNoDataException\u001b[0m: No data available for request.\nHTTP Status code: 204\nDetailed response of server:\n\n"
     ]
    }
   ],
   "source": [
    "# Download data\n",
    "st = client.get_waveforms(network=network, station=stations, location='*', channel=channel, starttime=starttime, endtime=endtime)\n",
    "inv = client.get_stations(network=network, station=stations, location=\"*\", channel=channel, starttime=starttime,\n",
    "                                         endtime=endtime, level='response')\n"
   ]
  },
  {
   "cell_type": "code",
   "execution_count": null,
   "id": "bd1abd27-c901-47e4-9985-e82d0a0ed74d",
   "metadata": {
    "tags": []
   },
   "outputs": [],
   "source": [
    "# EQ related information\n",
    "for net in inv:    \n",
    "    for station in net:\n",
    "        name = station.code\n",
    "        lat = station.latitude\n",
    "        lon = station.longitude\n",
    "        # Find closest grid point in ShakeMap grid and pga\n",
    "        subtracted_list = np.hstack((eq.lats - lat, eq.lons - lon))\n",
    "        nearest_index = np.nanargmin(np.sum(subtracted_list**2, axis=1))\n",
    "        pga = eq.pga[nearest_index, 0]\n",
    "        # Calculate epicentral and hypocentral distance, and first-arrival times\n",
    "        epi_dist = uf.getDistance(eq_lat, eq_lon, lat, lon)\n",
    "        hypo_dist = (epi_dist**2 + eq_dep**2)**.5\n",
    "        p_arr = hypo_dist/eq.vel_p\n",
    "        s_arr = hypo_dist/eq.vel_s\n",
    "        surf_arr = hypo_dist/eq.vel_surf\n",
    "        # Save the info into the data dict\n",
    "        station_data[name] = {'lat': lat,\n",
    "                              'lon': lon,\n",
    "                              'epi_dist': epi_dist,\n",
    "                              'hypo_dist': hypo_dist,\n",
    "                              'pga': pga,\n",
    "                              'p_arr': p_arr,\n",
    "                              's_arr': s_arr,\n",
    "                              'surf_arr': surf_arr}\n"
   ]
  },
  {
   "cell_type": "code",
   "execution_count": null,
   "id": "756d3164-8dd1-470a-a19b-be76fbec1afa",
   "metadata": {
    "tags": []
   },
   "outputs": [],
   "source": [
    "#test cell for printing stuff\n",
    "print(inv)\n",
    "print(st)"
   ]
  },
  {
   "cell_type": "code",
   "execution_count": null,
   "id": "0f3d113d-ca82-4bab-8c50-c2dd2c320995",
   "metadata": {
    "tags": []
   },
   "outputs": [],
   "source": [
    "n_tr = len(st)\n",
    "print('Number of traces:', n_tr)\n",
    "alpha = 1\n",
    "lw = 0.5\n",
    "\n",
    "# st1 = st.copy()\n",
    "# for i in len(st1):\n",
    "#     tr = st1[i]\n",
    "#     sample_rate = tr.stats.sampling_rate\n",
    "    \n",
    "    \n",
    "st1.attach_response(inv)\n",
    "st1 = st1.remove_response(output='ACC')\n",
    "\n",
    "fig, ax = plt.subplots(nrows=n_tr // 3, sharex=True, figsize=(8,n_tr))\n",
    "fig.subplots_adjust(hspace=0)\n",
    "for i in range(n_tr // 3):\n",
    "    sample = st[i*3].stats.channel[0]\n",
    "    chan = sample + channel[1:]\n",
    "\n",
    "    code = st1[i*3].stats.station\n",
    "    net = st1[i*3].stats.network\n",
    "    distance = station_data[code]['hypo_dist']\n",
    "    \n",
    "    tr_e = st1[i*3].detrend('demean')\n",
    "    tr_n = st1[i*3 + 1].detrend('demean')\n",
    "    tr_z = st1[i*3 + 2].detrend('demean')\n",
    "    \n",
    "    # tr_e = st1[i*3].detrend('demean')\n",
    "    # tr_n = st1[i*3 + 1].detrend('demean')\n",
    "    # tr_z = st1[i*3 + 2].detrend('demean')\n",
    "    \n",
    "    v_app_e = distance/tr_e.times()[1:]\n",
    "    v_app_n = distance/tr_n.times()[1:]\n",
    "    v_app_z = distance/tr_z.times()[1:]\n",
    "\n",
    "    ax[i].plot(v_app_e, envelope(tr_e.data[1:]), c='r', label=tr_e.stats.channel, lw=lw, alpha=alpha)\n",
    "    ax[i].plot(v_app_n, envelope(tr_n.data[1:]), c='c', label=tr_n.stats.channel, lw=lw, alpha=alpha)\n",
    "    ax[i].plot(v_app_z, envelope(tr_z.data[1:]), c='k', label=tr_z.stats.channel, lw=lw, alpha=alpha)    \n",
    "\n",
    "    ax[i].text(.01, .99, '%s.%s.%s: %.2f km' % (net, code, chan, distance), ha='left', va='top', transform=ax[i].transAxes)\n",
    "    ax[i].legend(loc='upper right')\n",
    "    # ax[i].set_title('%s: %.2f km' % (code, distance))\n",
    "# plt.xscale('log')\n",
    "plt.xlim(7, 2)\n",
    "plt.xlabel('Velocity (km/s)')\n"
   ]
  },
  {
   "cell_type": "code",
   "execution_count": null,
   "id": "23ffb0f5-729c-47d7-8653-82922dca8538",
   "metadata": {
    "tags": []
   },
   "outputs": [],
   "source": [
    "fig, ax = plt.subplots(nrows=4, sharex=True, figsize=(8,10))\n",
    "for i in range(4):\n",
    "    code = st1[i].stats.station\n",
    "    distance = station_data[code]['hypo_dist']\n",
    "    v_app = distance/st1[i].times()[1:]\n",
    "    ax[i].plot(st1[i].times(), envelope(st[i].data), c='k')\n",
    "    ax[i].text(0, np.max(st[i].data[1:])-1000, '%s: %.2f km' % (code, distance), va='top')"
   ]
  },
  {
   "cell_type": "code",
   "execution_count": null,
   "id": "2ebe208a-ffb3-4486-9ff8-a6afa6e67b61",
   "metadata": {
    "tags": []
   },
   "outputs": [],
   "source": [
    "st[0].stats.sampling_rate"
   ]
  },
  {
   "cell_type": "code",
   "execution_count": null,
   "id": "eef566b1-18d5-498d-9467-17e02530f016",
   "metadata": {
    "tags": []
   },
   "outputs": [],
   "source": [
    "len(st)"
   ]
  },
  {
   "cell_type": "code",
   "execution_count": null,
   "id": "afc7f5ca-32d4-4ea4-b29f-f5ae56ca5449",
   "metadata": {
    "tags": []
   },
   "outputs": [],
   "source": [
    "plt.figure()\n",
    "plt.plot(st1[0].times(), envelope(st1[0].data))"
   ]
  },
  {
   "cell_type": "code",
   "execution_count": null,
   "id": "992e52e4-f596-4058-ad2a-e054d6c9ef3e",
   "metadata": {
    "tags": []
   },
   "outputs": [],
   "source": [
    "stt = st1.copy()\n",
    "stt.trim(starttime=starttime+0, endtime=starttime+60)\n",
    "stt.plot()"
   ]
  },
  {
   "cell_type": "code",
   "execution_count": null,
   "id": "50fa53f0-564e-4394-966d-9208455f8bb2",
   "metadata": {},
   "outputs": [],
   "source": [
    "stt = st.copy()\n",
    "stt.trim(starttime=starttime, endtime=endtime)\n",
    "\n",
    "for i in range(len(stt)//3):\n",
    "    plt.figure()\n",
    "    # st[i].plot()\n",
    "    code = stt[i*3].stats.station\n",
    "    net = stt[i*3].stats.network\n",
    "    # chan = st1[i].stats.channel\n",
    "    distance = station_data[code]['hypo_dist']\n",
    "    plt.plot(stt[i*3].times(), stt[i*3].data, c='r', label=stt[i*3].stats.channel)\n",
    "    plt.plot(stt[i*3+1].times(), stt[i*3+1].data, c='c', label=stt[i*3].stats.channel)\n",
    "    plt.plot(stt[i*3+2].times(), stt[i*3+2].data, c='k', label=stt[i*3].stats.channel)\n",
    "\n",
    "    # plt.text(.01, .99, '%s.%s.%s: %.2f km' % (net, code, chan, distance), ha='left', va='top', transform=plt.transAxes)\n",
    "    plt.legend(loc='upper right')"
   ]
  },
  {
   "cell_type": "code",
   "execution_count": null,
   "id": "424b350a-be1f-475a-8b99-08dab0410821",
   "metadata": {
    "tags": []
   },
   "outputs": [],
   "source": [
    "st[0*3+1].times())"
   ]
  },
  {
   "cell_type": "code",
   "execution_count": null,
   "id": "48d9f122-c6c6-4b16-8e9f-25125c9ea36e",
   "metadata": {},
   "outputs": [],
   "source": [
    "st.plot()"
   ]
  },
  {
   "cell_type": "code",
   "execution_count": null,
   "id": "ca19eba2-96cd-48cc-87ca-0bb9d0cc8042",
   "metadata": {},
   "outputs": [],
   "source": [
    "stime = UTCDateTime('2018-11-30T17:29:29.000Z')\n",
    "st = client.get_waveforms('AK', 'K223', '?', 'BN?', starttime=starttime, endtime=endtime)\n"
   ]
  },
  {
   "cell_type": "code",
   "execution_count": null,
   "id": "72f442f3-a3a6-4ea4-93b3-d58da27d660a",
   "metadata": {},
   "outputs": [],
   "source": []
  }
 ],
 "metadata": {
  "kernelspec": {
   "display_name": "Python 3 (ipykernel)",
   "language": "python",
   "name": "python3"
  },
  "language_info": {
   "codemirror_mode": {
    "name": "ipython",
    "version": 3
   },
   "file_extension": ".py",
   "mimetype": "text/x-python",
   "name": "python",
   "nbconvert_exporter": "python",
   "pygments_lexer": "ipython3",
   "version": "3.9.7"
  }
 },
 "nbformat": 4,
 "nbformat_minor": 5
}
