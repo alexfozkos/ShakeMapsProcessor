{
 "cells": [
  {
   "cell_type": "code",
   "execution_count": 1,
   "id": "20219e6d-77c3-4094-aa08-9adcc2db8123",
   "metadata": {
    "tags": []
   },
   "outputs": [],
   "source": [
    "import numpy as np\n",
    "import shapely.geometry\n",
    "import pyproj\n",
    "import UsefulFunctions as uf\n",
    "import pygmt\n",
    "import pandas as pd\n",
    "import xarray as xr"
   ]
  },
  {
   "cell_type": "code",
   "execution_count": 7,
   "id": "5696189d-6af8-4038-a67d-e2ce33a7657a",
   "metadata": {
    "tags": []
   },
   "outputs": [],
   "source": [
    "latN = 72\n",
    "latS = 49.5\n",
    "lonW = 164\n",
    "lonE = -129\n",
    "# stations = pd.read_csv('Data/EEWNetwork.csv')\n",
    "stations = uf.ActiveBBs\n",
    "stepsize = 10*1000 # 10 km grid step size\n",
    "\n",
    "num_rows = 0\n",
    "num_cols = 0"
   ]
  },
  {
   "cell_type": "code",
   "execution_count": 8,
   "id": "fd1020ad-42f3-401f-8bf8-3ddcfcca10f0",
   "metadata": {
    "tags": []
   },
   "outputs": [
    {
     "name": "stdout",
     "output_type": "stream",
     "text": [
      "POINT (49.5 164)\n",
      "(18256396.490096867, 6360130.74092142)\n",
      "POINT (72 180)\n",
      "(20037508.342789244, 11753184.615338454)\n",
      "96660\n"
     ]
    }
   ],
   "source": [
    "\n",
    "# Set up transformers, EPSG:3857 is metric, same as EPSG:900913\n",
    "to_proxy_transformer = pyproj.Transformer.from_crs('epsg:4326', 'epsg:3857')\n",
    "to_original_transformer = pyproj.Transformer.from_crs('epsg:3857', 'epsg:4326')\n",
    "\n",
    "\n",
    "# Create corners of rectangle to be transformed to a grid\n",
    "sw = shapely.geometry.Point((latS, lonW))\n",
    "ne = shapely.geometry.Point((latN, 180))\n",
    "\n",
    "# Project corners to target projection\n",
    "transformed_sw = to_proxy_transformer.transform(sw.x, sw.y) # Transform SW point to 3857\n",
    "transformed_ne = to_proxy_transformer.transform(ne.x, ne.y) # .. same for NE\n",
    "print(sw)\n",
    "print(transformed_sw)\n",
    "print(ne)\n",
    "print(transformed_ne)\n",
    "\n",
    "# Iterate over 2D area\n",
    "gridpoints = []\n",
    "x = transformed_sw[0]\n",
    "while x < transformed_ne[0]:\n",
    "    num_cols +=1\n",
    "    y = transformed_sw[1]\n",
    "    while y < transformed_ne[1]:\n",
    "        p = shapely.geometry.Point(to_original_transformer.transform(x, y))\n",
    "        gridpoints.append(p)\n",
    "        y += stepsize\n",
    "    x += stepsize\n",
    "\n",
    "print(len(gridpoints))\n",
    "latsW = np.array([p.x for p in gridpoints])\n",
    "lonsW = np.array([p.y for p in gridpoints])\n"
   ]
  },
  {
   "cell_type": "code",
   "execution_count": 9,
   "id": "47f9bfc3-d8c1-49f5-bc25-2551dcfa3730",
   "metadata": {
    "tags": []
   },
   "outputs": [
    {
     "name": "stdout",
     "output_type": "stream",
     "text": [
      "POINT (49.5 -180)\n",
      "(-20037508.342789244, 6360130.74092142)\n",
      "POINT (72 -129)\n",
      "(-14360214.31233229, 11753184.615338454)\n",
      "306720\n"
     ]
    }
   ],
   "source": [
    "# Set up transformers, EPSG:3857 is metric, same as EPSG:900913\n",
    "to_proxy_transformer = pyproj.Transformer.from_crs('epsg:4326', 'epsg:3857')\n",
    "to_original_transformer = pyproj.Transformer.from_crs('epsg:3857', 'epsg:4326')\n",
    "\n",
    "# Create corners of rectangle to be transformed to a grid\n",
    "sw = shapely.geometry.Point((latS, -180))\n",
    "ne = shapely.geometry.Point((latN, lonE))\n",
    "\n",
    "# Project corners to target projection\n",
    "transformed_sw = to_proxy_transformer.transform(sw.x, sw.y) # Transform SW point to 3857\n",
    "transformed_ne = to_proxy_transformer.transform(ne.x, ne.y) # .. same for NE\n",
    "print(sw)\n",
    "print(transformed_sw)\n",
    "print(ne)\n",
    "print(transformed_ne)\n",
    "\n",
    "# Iterate over 2D area\n",
    "gridpoints = []\n",
    "x = transformed_sw[0]\n",
    "while x < transformed_ne[0]:\n",
    "    num_cols += 1\n",
    "    y = transformed_sw[1]\n",
    "    while y < transformed_ne[1]:\n",
    "        p = shapely.geometry.Point(to_original_transformer.transform(x, y))\n",
    "        gridpoints.append(p)\n",
    "        y += stepsize\n",
    "    x += stepsize\n",
    "\n",
    "print(len(gridpoints))\n",
    "latsE = np.array([p.x for p in gridpoints])\n",
    "lonsE = np.array([p.y for p in gridpoints])\n"
   ]
  },
  {
   "cell_type": "code",
   "execution_count": 11,
   "id": "22c2d6be-92ea-4e83-b148-4a7a5b8fb3e7",
   "metadata": {},
   "outputs": [
    {
     "name": "stdout",
     "output_type": "stream",
     "text": [
      "747\n"
     ]
    }
   ],
   "source": []
  },
  {
   "cell_type": "code",
   "execution_count": 75,
   "id": "17ef558a-80ef-4a92-959d-29fbdabfdd52",
   "metadata": {
    "tags": []
   },
   "outputs": [
    {
     "name": "stdout",
     "output_type": "stream",
     "text": [
      "(403380,)\n",
      "747\n",
      "540.0\n",
      "747 540\n"
     ]
    }
   ],
   "source": [
    "grid_lats = np.hstack((latsW, latsE))\n",
    "grid_lons = np.hstack((lonsW, lonsE))\n",
    "print(grid_lats.shape)\n",
    "print(num_cols)\n",
    "print(grid_lats.size/num_cols)\n",
    "num_rows = int(grid_lats.size/num_cols)\n",
    "# print(grid_lats[:541])\n",
    "unique_lons = grid_lons[::540]\n",
    "unique_lats = grid_lats[:540]\n",
    "print(unique_lons.size, unique_lats.size)\n",
    "del grid_lats, grid_lons, p"
   ]
  },
  {
   "cell_type": "code",
   "execution_count": 70,
   "id": "260d448e-fb41-4c89-a591-912b53dd2e24",
   "metadata": {},
   "outputs": [
    {
     "name": "stdout",
     "output_type": "stream",
     "text": [
      "[0 1 2]\n"
     ]
    }
   ],
   "source": [
    "a = np.array([0,1,2,3,4])\n",
    "print(a[:3])"
   ]
  },
  {
   "cell_type": "code",
   "execution_count": null,
   "id": "ea741e64-5ff7-4872-bdb3-89a0797083ae",
   "metadata": {
    "tags": []
   },
   "outputs": [],
   "source": [
    "gridBoundaries = [lonW-1, lonE+1, latS-1, latN+1]\n",
    "title = r\"Interstation Distances\"\n",
    "coast_border = \"a/0.5p,brown\"\n",
    "shorelines = \"0.3p,black\"\n",
    "fig = pygmt.Figure()\n",
    "fig.basemap(region='170/49/-128/73+r', projection='M15c', frame=[\"af\", f'WSne+t\"{title}\"'])\n",
    "fig.coast(shorelines=shorelines, borders=coast_border, water='skyblue', land='lightgray')  # draw coast over datawater='skyblue'\n",
    "\n",
    "pygmt.makecpt(\n",
    "    transparency=75,\n",
    "    cmap=['seis'],\n",
    "    reverse=True,\n",
    "    series=[0, 60]  # np.max(p[2, :])\n",
    ")\n",
    "fig.plot(  # Plot seismic stations as triangles\n",
    "    x=stations['Lon'],\n",
    "    y=stations['Lat'],\n",
    "    style='t+0.3c',\n",
    "    color='white',\n",
    "    pen='black',\n",
    ")\n",
    "fig.plot(\n",
    "    x=grid_lons,\n",
    "    y=grid_lats,\n",
    "    style='c+0.0025c',\n",
    "    )\n",
    "fig.show()\n",
    "fig.savefig('Figures/misc/interstationdist_grid.pdf')"
   ]
  },
  {
   "cell_type": "code",
   "execution_count": null,
   "id": "0b332aff-e9bd-4f2f-b823-4f146925b9ad",
   "metadata": {
    "tags": []
   },
   "outputs": [],
   "source": []
  },
  {
   "cell_type": "code",
   "execution_count": null,
   "id": "efa046ff-da7c-4a46-b00d-ef85681029b5",
   "metadata": {
    "tags": []
   },
   "outputs": [],
   "source": [
    "sta_lats = np.array(stations['Lat'])\n",
    "sta_lons = np.array(stations['Lon'])\n",
    "print(np.array(stations['Lon']).shape)\n",
    "num_p = len(grid_lons)\n",
    "num_sta = len(sta_lons)\n",
    "grid_lons_2D = np.reshape(grid_lons, (num_p, 1))\n",
    "grid_lats_2D = np.reshape(grid_lats, (num_p, 1))\n",
    "\n",
    "sta_lons_2D = np.zeros(shape=(num_p, num_sta))\n",
    "sta_lats_2D = np.zeros(shape=(num_p, num_sta))\n",
    "for i in range(num_p):\n",
    "    sta_lons_2D[i,:] = sta_lons\n",
    "    sta_lats_2D[i,:] = sta_lats\n",
    "print(grid_lons_2D.shape)\n",
    "print(sta_lons_2D.shape)"
   ]
  },
  {
   "cell_type": "code",
   "execution_count": null,
   "id": "1e6f627e-0e17-4852-b985-ecb3f884a14c",
   "metadata": {
    "tags": []
   },
   "outputs": [],
   "source": [
    "a = np.array([[1, 2, 3], [4, 5, 6], [7,8,9]])\n",
    "b = np.array([1,2,3])\n",
    "print(a)\n",
    "print(b)\n",
    "print(a-b[:,None])\n",
    "print(a*a)\n",
    "print(a/2)"
   ]
  },
  {
   "cell_type": "code",
   "execution_count": null,
   "id": "b9415ac1-f938-4086-8c9b-ef852691b84b",
   "metadata": {
    "tags": []
   },
   "outputs": [],
   "source": [
    "r = 6371  # Radius of earth in km\n",
    "phi1 = np.radians(grid_lats)\n",
    "phi2 = np.radians(sta_lats_2D)\n",
    "dphi = np.radians(sta_lats_2D - grid_lats[:,None])\n",
    "dlambda = np.radians(sta_lons_2D - grid_lons[:,None])\n",
    "a = (np.sin(dphi / 2)) ** 2 + np.cos(phi1)[:,None] * np.cos(phi2) * (np.sin(dlambda / 2)) ** 2\n",
    "c = 2 * np.arctan2(np.sqrt(a), np.sqrt(1 - a))\n",
    "d = r * c  # distance in km\n"
   ]
  },
  {
   "cell_type": "code",
   "execution_count": null,
   "id": "af1626ae-4625-4f27-b20c-84230c012181",
   "metadata": {
    "tags": []
   },
   "outputs": [],
   "source": [
    "mindex = d[0,:].argmin()\n",
    "print(d.shape)\n",
    "print(mindex)\n",
    "print(sta_lons[mindex], sta_lats[mindex])\n",
    "print(grid_lons[0], grid_lats[0])\n",
    "nearest_sta_dist = d.min(axis=1)\n",
    "print(nearest_sta_dist.min())"
   ]
  },
  {
   "cell_type": "code",
   "execution_count": null,
   "id": "73ab1572-d13f-49b0-8c44-ce1232da021d",
   "metadata": {
    "tags": []
   },
   "outputs": [],
   "source": [
    "d_sort = np.sort(d, axis=1)"
   ]
  },
  {
   "cell_type": "code",
   "execution_count": null,
   "id": "dddb8e7f-9eff-4cba-8e8e-b16a29bc42e2",
   "metadata": {
    "tags": []
   },
   "outputs": [],
   "source": [
    "fourth_nearest = d_sort[:, 3]"
   ]
  },
  {
   "cell_type": "code",
   "execution_count": null,
   "id": "953699fe-9cf2-470e-9d76-129413a00df5",
   "metadata": {
    "tags": []
   },
   "outputs": [],
   "source": [
    "print(fourth_nearest.shape)\n",
    "print(grid_lons.shape)\n",
    "print(data.shape)"
   ]
  },
  {
   "cell_type": "code",
   "execution_count": null,
   "id": "1097879b-0c69-473c-b721-c54a52f72881",
   "metadata": {},
   "outputs": [],
   "source": [
    "\n",
    "data = fourth_nearest.reshape(grid_lats.size, grid_lons.size)\n",
    "grid = xr.DataArray(\n",
    "    data=data,\n",
    "    dims=['lat', 'lon'],\n",
    "    coords=dict(\n",
    "        lon=(['lon'], grid_lons),\n",
    "        lat=(['lat'], grid_lats)\n",
    "    )\n",
    ")"
   ]
  },
  {
   "cell_type": "code",
   "execution_count": null,
   "id": "cea602a2-a514-4e39-92cd-534f12566b9d",
   "metadata": {
    "tags": []
   },
   "outputs": [],
   "source": [
    "title = r\"Nearest Station Distances\"\n",
    "coast_border = \"a/0.5p,brown\"\n",
    "shorelines = \"0.3p,black\"\n",
    "fig = pygmt.Figure()\n",
    "fig.basemap(region='170/49/-128/73+r', projection='M15c', frame=[\"af\", f'WSne+t\"{title}\"'])\n",
    "fig.coast(shorelines=shorelines, borders=coast_border, water='white', land='lightgray')  # draw coast over datawater='skyblue'\n",
    "\n",
    "pygmt.makecpt(\n",
    "    transparency='5+a',\n",
    "    cmap=['seis'],\n",
    "    reverse=True,\n",
    "    series=[0, 160]  # np.max(p[2, :])\n",
    ")\n",
    "fig.plot(  # Plot seismic stations as triangles\n",
    "    x=stations['Lon'],\n",
    "    y=stations['Lat'],\n",
    "    style='t+0.2c',\n",
    "    color='white',\n",
    "    pen='black',\n",
    ")\n",
    "fig.plot(\n",
    "    x=grid_lons,\n",
    "    y=grid_lats,\n",
    "    color=fourth_nearest,\n",
    "    cmap=True,\n",
    "    style='c+0.0025c',\n",
    "    )\n",
    "fig.colorbar(frame='xafg20+l\"Nearest Station Distance (km)\"')\n",
    "\n",
    "fig.show()\n",
    "fig.savefig('Figures/misc/fourthstationdist.pdf')"
   ]
  },
  {
   "cell_type": "code",
   "execution_count": null,
   "id": "b09e8873-7027-410c-97d7-8f93788160bc",
   "metadata": {},
   "outputs": [],
   "source": []
  }
 ],
 "metadata": {
  "kernelspec": {
   "display_name": "Python 3 (ipykernel)",
   "language": "python",
   "name": "python3"
  },
  "language_info": {
   "codemirror_mode": {
    "name": "ipython",
    "version": 3
   },
   "file_extension": ".py",
   "mimetype": "text/x-python",
   "name": "python",
   "nbconvert_exporter": "python",
   "pygments_lexer": "ipython3",
   "version": "3.9.7"
  }
 },
 "nbformat": 4,
 "nbformat_minor": 5
}
