{
 "cells": [
  {
   "cell_type": "code",
   "execution_count": 137,
   "id": "20219e6d-77c3-4094-aa08-9adcc2db8123",
   "metadata": {
    "tags": []
   },
   "outputs": [],
   "source": [
    "import numpy as np\n",
    "import UsefulFunctions as uf\n",
    "import pygmt\n",
    "import pandas as pd\n",
    "import xarray as xr\n",
    "from pyproj import Transformer\n"
   ]
  },
  {
   "cell_type": "code",
   "execution_count": 148,
   "id": "7fc8a96c-adc8-40da-b734-6358393800e4",
   "metadata": {},
   "outputs": [],
   "source": [
    "# functions needed for making the big grid and calculating distances (vectorized haversine + pythagorean theorem for 3d distance)\n",
    "\n",
    "def trunc_float(nums, dec):\n",
    "    truncated_nums = np.trunc(nums*10**dec)/10**dec\n",
    "    \n",
    "    return truncated_nums\n",
    "\n",
    "def generate_grid(min_lat, max_lat, min_lon, max_lon, spacing_km):\n",
    "    # convert km spacing to degrees, use average lat for longitude spacing\n",
    "    lat_degree_spacing = trunc_float(spacing_km/111, 5)\n",
    "    avg_lat = min_lat + (max_lat - min_lat)/2\n",
    "    lon_degree_spacing = trunc_float(spacing_km/(111*np.cos(np.radians(avg_lat))), 5)\n",
    "    \n",
    "    lats = np.arange(min_lat, max_lat + lat_degree_spacing, lat_degree_spacing)\n",
    "    lons = np.arange(min_lon, max_lon + lon_degree_spacing, lon_degree_spacing)\n",
    "    lons_2d, lats_2d = np.meshgrid(lons, lats)\n",
    "    grid = np.hstack((lats_2d.flatten().reshape(-1,1), lons_2d.flatten().reshape(-1,1)))\n",
    "\n",
    "    return grid, lats, lons\n",
    "\n",
    "\n",
    "def calculate_3d_distances(grid, other_points, depth):\n",
    "    grid_latitudes = np.radians(grid[:, 0])\n",
    "    grid_longitudes = np.radians(grid[:, 1])\n",
    "    other_latitudes = np.radians(other_points[:, 0])\n",
    "    other_longitudes = np.radians(other_points[:, 1])\n",
    "\n",
    "    dlat = other_latitudes[:, None] - grid_latitudes\n",
    "    dlon = other_longitudes[:, None] - grid_longitudes\n",
    "\n",
    "    a = np.sin(dlat/2)**2 + np.cos(other_latitudes[:, None]) * np.cos(grid_latitudes) * np.sin(dlon/2)**2\n",
    "    c = 2 * np.arctan2(np.sqrt(a), np.sqrt(1-a))\n",
    "    distances_2d = 6371 * c  # 2D distances on the Earth's surface\n",
    "\n",
    "    # Calculate 3D distances by adding depth component\n",
    "    distances_3d = np.sqrt(distances_2d**2 + depth**2)\n",
    "\n",
    "    return distances_3d"
   ]
  },
  {
   "cell_type": "code",
   "execution_count": 149,
   "id": "329dbc79-b7dc-49d3-ad02-59731d61a5b0",
   "metadata": {},
   "outputs": [],
   "source": [
    "# vectorized functions needed for checking angles for a mass number of earthquake sources\n",
    "\n",
    "def spherical_to_cartesian(lat, lon, depth):\n",
    "    # Convert spherical coordinates (latitude, longitude, depth) to Cartesian coordinates (x, y, z)\n",
    "    # lat_rad = np.radians(lat)\n",
    "    # lon_rad = np.radians(lon)\n",
    "    # x = np.cos(lat_rad) * np.cos(lon_rad) * (6371 - depth)\n",
    "    # y = np.cos(lat_rad) * np.sin(lon_rad) * (6371 - depth)\n",
    "    # z = np.sin(lat_rad) * (6371 - depth)\n",
    "    \n",
    "    # Just use a transformer from pyproj  (WGS84 > WGS Geocentric (XYZ))\n",
    "    transformer = Transformer.from_crs(\"EPSG:4326\", \"EPSG:4978\")\n",
    "    x, y, z = transformer.transform(lat, lon, depth)  # outputs in m\n",
    "\n",
    "    return np.array([x, y, z]).T/1000. # convert back to km, transpose for columns instead of rows\n",
    "\n",
    "\n",
    "def compute_3d_angles(stations, sources):\n",
    "    # Convert stations and sources to Cartesian coordinates\n",
    "    stations_cartesian = np.array([spherical_to_cartesian(*station) for station in stations])\n",
    "    sources_cartesian = np.array([spherical_to_cartesian(*source) for source in sources])\n",
    "    print(stations_cartesian.shape)\n",
    "    print(sources_cartesian.shape)\n",
    "\n",
    "    return result\n",
    "\n",
    "# Example usage\n",
    "# Assuming stations is a NumPy array of shape (n, 3) containing (latitude, longitude, depth) coordinates of stations\n",
    "# and sources is a NumPy array of shape (m, 3) containing (latitude, longitude, depth) coordinates of sources\n",
    "\n"
   ]
  },
  {
   "cell_type": "code",
   "execution_count": 250,
   "id": "5d31f13b-b82e-4eeb-a886-ad0d2d674f79",
   "metadata": {},
   "outputs": [],
   "source": [
    "def calculate_detection_time(grid, stations_coords, depth, velP):\n",
    "    max_gap = 60\n",
    "    min_angle = 60\n",
    "    # get distances to each station for each point\n",
    "    distances_3d = calculate_3d_distances(grid, stations_coords, depth) \n",
    "    \n",
    "    sta_coords_cart = spherical_to_cartesian(stations_coords[:,0], stations_coords[:,1], stations_coords[:,2])\n",
    "    grid_coords_cart = spherical_to_cartesian(grid[:,0], grid[:,1], grid[:,2])\n",
    "\n",
    "    #initialize grid for stacking data\n",
    "    dists_and_sta_coords = np.empty((len(stations_coords), len(grid), 4))\n",
    "    # first pane is distance\n",
    "    dists_and_sta_coords[:,:,0] = distances_3d\n",
    "    # next 3 panes are coords\n",
    "    dists_and_sta_coords[:,:,1] = np.tile(sta_coords_cart[:, 0].reshape(-1,1), len(grid))\n",
    "    dists_and_sta_coords[:,:,2] = np.tile(sta_coords_cart[:, 1].reshape(-1,1), len(grid))\n",
    "    dists_and_sta_coords[:,:,3] = np.tile(sta_coords_cart[:, 2].reshape(-1,1), len(grid))\n",
    "\n",
    "    # sort columns of first panel (distances) and get the indices to use to reconstruct sorted array\n",
    "    ai = np.argsort(dists_and_sta_coords[:, :, 0], axis=0)\n",
    "    # initialize the new sorted array\n",
    "    dsc_sorted = np.empty((len(stations_coords), len(grid), 4))\n",
    "    # first pane is distance, next 3 are coords, same as before but sorted using the indices from argsort\n",
    "    dsc_sorted[:,:,0] = np.take_along_axis(dists_and_sta_coords[:,:,0], ai, axis=0)\n",
    "    dsc_sorted[:,:,1] = np.take_along_axis(dists_and_sta_coords[:,:,1], ai, axis=0)\n",
    "    dsc_sorted[:,:,2] = np.take_along_axis(dists_and_sta_coords[:,:,2], ai, axis=0)\n",
    "    dsc_sorted[:,:,3] = np.take_along_axis(dists_and_sta_coords[:,:,3], ai, axis=0)\n",
    "    \n",
    "    # tile the grid coords so each point can be subtracted from each station coord (like a 3d meshgrid)\n",
    "    grid_tiled = np.empty((len(stations_coords), len(grid), 3))\n",
    "    grid_tiled[:, :, 0] = np.tile(grid_coords_cart[:, 0].reshape(-1, 1), len(stations_coords)).T\n",
    "    grid_tiled[:, :, 1] = np.tile(grid_coords_cart[:, 1].reshape(-1, 1), len(stations_coords)).T\n",
    "    grid_tiled[:, :, 2] = np.tile(grid_coords_cart[:, 2].reshape(-1, 1), len(stations_coords)).T    \n",
    "    \n",
    "    # subtract each grid point coords from each station coords to get all displacement vectors\n",
    "    displacement_vectors_array = dsc_sorted[:, :, 1:] - grid_tiled\n",
    "    \n",
    "    n = 4\n",
    "    # get dot products for first n stations\n",
    "    angles = np.ones(shape=(1,len(grid))) * np.radians(180)\n",
    "    dva_first_n = displacement_vectors_array[:n, :, :]\n",
    "    for i in range(n):\n",
    "        mag_i_arr = np.linalg.norm(dva_first_n[i,:,:], axis=1)\n",
    "        for j in range(i+1, n):\n",
    "            dot_prod_arr = np.sum(dva_first_n[i,:,:] * dva_first_n[j,:,:], axis=1)\n",
    "            mag_j_arr = np.linalg.norm(dva_first_n[j,:,:], axis=1)\n",
    "            mag_ij_arr = mag_i_arr * mag_j_arr\n",
    "            cos_angles = dot_prod_arr/mag_ij_arr\n",
    "            angles = np.vstack((angles, np.arccos(cos_angles).reshape(1,-1)))\n",
    "            \n",
    "    # check which columns have an angle that meets the min_angle, then fill in other array\n",
    "    \n",
    "    \n",
    "    # detection_times_all = distances_3d/velP\n",
    "    # detection_times = np.sort(detection_times_all.T)[:, 3]\n",
    "    \n",
    "    return angles, dsc_sorted  # in radians\n"
   ]
  },
  {
   "cell_type": "code",
   "execution_count": 151,
   "id": "3c3044e4-e3ac-465e-987d-c1797ee2bc66",
   "metadata": {},
   "outputs": [],
   "source": [
    "depth = 8\n",
    "velP = uf.Earthquake.vel_p\n",
    "\n",
    "# stations = pd.read_csv('Data/EEWNetwork.csv')\n",
    "stations = uf.ActiveBBs\n",
    "stations_coords = np.vstack((stations.lat, stations.lon, np.zeros(shape=stations.lat.shape))).T\n",
    "\n",
    "# Define the bounding box and spacing\n",
    "min_lat = 49.5\n",
    "max_lat = 72\n",
    "min_lon = -196\n",
    "max_lon = -129\n",
    "spacing_km = 10  # Adjust as needed\n",
    "\n",
    "# Generate the grid\n",
    "grid, lats, lons = generate_grid(min_lat, max_lat, min_lon, max_lon, spacing_km)\n",
    "grid = np.hstack((grid, np.ones((len(grid), 1)) * depth))\n"
   ]
  },
  {
   "cell_type": "code",
   "execution_count": 152,
   "id": "a318d467-0f0b-4fae-8219-09c5b7a69724",
   "metadata": {},
   "outputs": [],
   "source": [
    "distances_3d = calculate_3d_distances(grid, stations_coords, depth) \n"
   ]
  },
  {
   "cell_type": "code",
   "execution_count": 153,
   "id": "4a8800a2-a0b5-4ed1-b6c3-2e7da6d759cb",
   "metadata": {},
   "outputs": [],
   "source": [
    "dists_and_sta_coords = np.empty((len(stations_coords), len(grid), 4))\n",
    "# first pane is distance\n",
    "dists_and_sta_coords[:,:,0] = distances_3d\n",
    "# next 3 panes are coords\n",
    "dists_and_sta_coords[:,:,1] = np.tile(stations_coords[:, 0].reshape(-1,1), len(grid))\n",
    "dists_and_sta_coords[:,:,2] = np.tile(stations_coords[:, 1].reshape(-1,1), len(grid))\n",
    "dists_and_sta_coords[:,:,3] = np.tile(stations_coords[:, 2].reshape(-1,1), len(grid))\n"
   ]
  },
  {
   "cell_type": "code",
   "execution_count": 154,
   "id": "85d5e6e1-122f-4e0b-9f47-5669a34b1772",
   "metadata": {},
   "outputs": [],
   "source": [
    "# sort columns of first panel (distances) and get the indices to use to reconstruct sorted array\n",
    "ai = np.argsort(dists_and_sta_coords[:, :, 0], axis=0)\n",
    "# initialize the new sorted array\n",
    "dsc_sorted = np.empty((len(stations_coords), len(grid), 4))\n",
    "# first pane is distance, next 3 are coords, same as before but sorted using the indices from argsort\n",
    "dsc_sorted[:,:,0] = np.take_along_axis(dists_and_sta_coords[:,:,0], ai, axis=0)\n",
    "dsc_sorted[:,:,1] = np.take_along_axis(dists_and_sta_coords[:,:,1], ai, axis=0)\n",
    "dsc_sorted[:,:,2] = np.take_along_axis(dists_and_sta_coords[:,:,2], ai, axis=0)\n",
    "dsc_sorted[:,:,3] = np.take_along_axis(dists_and_sta_coords[:,:,3], ai, axis=0)"
   ]
  },
  {
   "cell_type": "code",
   "execution_count": null,
   "id": "a116564e-0375-4368-9b91-d1542c36b910",
   "metadata": {},
   "outputs": [],
   "source": [
    "grid_tiled = np.empty((len(stations_coords), len(grid), 3))\n",
    "grid_tiled[:, :, 0] = np.tile(grid[:, 0].reshape(-1, 1), len(stations_coords)).T\n",
    "grid_tiled[:, :, 1] = np.tile(grid[:, 1].reshape(-1, 1), len(stations_coords)).T\n",
    "grid_tiled[:, :, 2] = np.tile(grid[:, 2].reshape(-1, 1), len(stations_coords)).T\n",
    "grid_tiled[:, 0, 1]"
   ]
  },
  {
   "cell_type": "code",
   "execution_count": 156,
   "id": "341cac2a-63e2-461c-a417-9c04d19d3ab7",
   "metadata": {},
   "outputs": [],
   "source": [
    "displacement_vectors_array = dsc_sorted[:, :, 1:] - grid_tiled\n"
   ]
  },
  {
   "cell_type": "code",
   "execution_count": 220,
   "id": "af3f2b3e-ccee-444b-881c-edacdc5dc5a7",
   "metadata": {},
   "outputs": [
    {
     "name": "stdout",
     "output_type": "stream",
     "text": [
      "354.6499\n",
      "(91615, 3)\n",
      "[[1.13830776e+01 1.31257027e+05 6.40000000e+01]\n",
      " [1.13830776e+01 1.31123439e+05 6.40000000e+01]\n",
      " [1.13830776e+01 1.30989918e+05 6.40000000e+01]\n",
      " ...\n",
      " [8.90539400e+00 6.16773159e+01 6.40000000e+01]\n",
      " [8.90539400e+00 6.51628400e+01 6.40000000e+01]\n",
      " [8.90539400e+00 6.87163486e+01 6.40000000e+01]]\n",
      "(91615,)\n",
      "[[0 1 2]\n",
      " [3 4 5]\n",
      " [6 7 8]]\n",
      "[[ 9 10 11]\n",
      " [12 13 14]\n",
      " [15 16 17]]\n",
      "[ 32 158 338]\n",
      "[ 2.23606798  7.07106781 12.20655562]\n",
      "7.0710678118654755\n",
      "blasdkhjasdkshad\n",
      "[1.         0.5        0.33333333]\n"
     ]
    }
   ],
   "source": [
    "print(displacement_vectors_array[0,0,1])\n",
    "sta_coords_cart_xyz = spherical_to_cartesian(stations_coords[:,0], stations_coords[:,1], stations_coords[:,2])\n",
    "dva_first4 = displacement_vectors_array[:4, :, :]\n",
    "print(dva_first4[0, :, :].shape)\n",
    "print(dva_first4[0,:,:]*dva_first4[1,:,:])\n",
    "print(np.sum(dva_first4[0,:,:]*dva_first4[1,:,:], axis=1).shape)\n",
    "\n",
    "aa = np.arange(9).reshape(3,3)\n",
    "bb = np.arange(9,18).reshape(3,3)\n",
    "print(aa)\n",
    "print(bb)\n",
    "print(np.sum(aa*bb, axis=1))\n",
    "print(np.linalg.norm(aa, axis=1))\n",
    "print((9+16+25)**.5)\n",
    "print('blasdkhjasdkshad')\n",
    "print(np.array([1,2,3])/np.array([1,4,9]))"
   ]
  },
  {
   "cell_type": "code",
   "execution_count": 144,
   "id": "422311c3-9d29-4911-a2f4-0536b8a5316a",
   "metadata": {},
   "outputs": [
    {
     "name": "stdout",
     "output_type": "stream",
     "text": [
      "[-1880495.1461153  -1886909.70331148  1256283.72708559] [-813081.08474678 -880915.0818855  4528171.34581636] [6019886.70006054 6008401.63015676 4298086.16208707]\n",
      "[-1880495.1461153  -1886909.70331148  1256283.72708559] [-813081.08474678 -880915.0818855  4528171.34581636] [6019886.70006054 6008401.63015676 4298086.16208707]\n"
     ]
    },
    {
     "name": "stderr",
     "output_type": "stream",
     "text": [
      "/var/folders/g1/4874q8ms0w3fy6r8bcytvqgc0000gn/T/ipykernel_30955/14160707.py:9: FutureWarning: This function is deprecated. See: https://pyproj4.github.io/pyproj/stable/gotchas.html#upgrading-to-pyproj-2-from-pyproj-1\n",
      "  x2 , y2  , z2 = pyproj.transform( wgs84, geocentric, x, y, z)\n"
     ]
    }
   ],
   "source": [
    "# wgs84 = pyproj.Proj('+proj=longlat +ellps=WGS84 +datum=WGS84 +no_defs')##4326\n",
    "# geocentric= pyproj.Proj('+proj=geocent +datum=WGS84 +units=m +no_defs') ##4978\n",
    "transformer = Transformer.from_crs(\"EPSG:4326\", \"EPSG:4978\")\n",
    "\n",
    "\n",
    "x = stations_coords[0:3,1]\n",
    "y = stations_coords[0:3,0]\n",
    "z = stations_coords[0:3,2]\n",
    "x2 , y2  , z2 = pyproj.transform( wgs84, geocentric, x, y, z)\n",
    "print(x2, y2, z2)\n",
    "x2 , y2  , z2 = transformer.transform(y, x, z)\n",
    "print(x2, y2, z2)\n"
   ]
  },
  {
   "cell_type": "code",
   "execution_count": null,
   "id": "55bc438a-3ac3-4b43-812b-31b940ebb6e4",
   "metadata": {},
   "outputs": [],
   "source": [
    "test_srcs = np.array([[56, -149], [49.5, -195.81563]])\n",
    "test_stas = np.array([[57, -148], [30, 122], [57, -148+360], [48.5, -196]])\n",
    "test_3ds = calculate_3d_distances(test_srcs, test_stas, 8)\n",
    "print(test_3ds)\n",
    "# print(stations_coords[77])\n",
    "# print(stations.loc[77])\n",
    "test_3darr = np.empty((4, 2, 3))\n",
    "test_3darr[:,:,0] = test_3ds\n",
    "test_3darr[:,:,1] = np.tile(test_stas[:,0].reshape(-1,1),2)\n",
    "test_3darr[:,:,2] = np.tile(test_stas[:,1].reshape(-1,1),2)\n",
    "print(test_3darr[:,:,2])\n",
    "print(np.argsort(test_3darr[:, :, 0], axis=0))\n",
    "ai = np.argsort(test_3darr[:, :, 0], axis=0)\n",
    "print(np.take_along_axis(test_3darr[:,:,2], ai, axis=0))\n",
    "print(np.take_along_axis(test_3darr[:,:,1], ai, axis=0))"
   ]
  },
  {
   "cell_type": "code",
   "execution_count": 251,
   "id": "7a45071e-9386-4d8c-8305-251fdb03000a",
   "metadata": {},
   "outputs": [],
   "source": [
    "angles, dsc_sorted = calculate_detection_time(grid, stations_coords, depth, velP)"
   ]
  },
  {
   "cell_type": "code",
   "execution_count": 255,
   "id": "aa8d18cf-fbf4-4a0d-bffd-065e0ba54bf8",
   "metadata": {},
   "outputs": [
    {
     "name": "stdout",
     "output_type": "stream",
     "text": [
      "[[  540.20976857 -3580.76554373  1399.69038536  5072.10357367]\n",
      " [  790.53667878 -3850.08091917   397.65662681  5052.45844256]\n",
      " [ 1058.65765834 -3939.68738302    98.55437029  4998.14163004]\n",
      " [ 1101.50464897 -3988.90508094    48.61076009  4959.95017796]]\n",
      "[180.         100.55851549 110.93034124 114.46518066  10.54191375\n",
      "  14.10613397   3.56769812]\n"
     ]
    }
   ],
   "source": [
    "print(dsc_sorted[:4,0,:])\n",
    "print(np.degrees(angles[:, 0]))"
   ]
  },
  {
   "cell_type": "code",
   "execution_count": null,
   "id": "e0cffc23-db36-4192-a27f-b1d6654e6a85",
   "metadata": {},
   "outputs": [],
   "source": [
    "dt_2d = detection_times.reshape(len(lats), len(lons))"
   ]
  },
  {
   "cell_type": "code",
   "execution_count": null,
   "id": "ea741e64-5ff7-4872-bdb3-89a0797083ae",
   "metadata": {
    "tags": []
   },
   "outputs": [],
   "source": [
    "gridBoundaries = f'{min_lon-0.5}/{max_lon+0.5}/{min_lat-0.5}/{max_lat+0.5}'\n",
    "title = f\"Detection Times at {depth} km Depth\"\n",
    "coast_border = \"a/0.5p,brown\"\n",
    "shorelines = \"0.3p,black\"\n",
    "fig = pygmt.Figure()\n",
    "# fig.basemap(region='170/49/-128/73+r', projection='M15c', frame=[\"af\", f'WSne+t\"{title}\"'])\n",
    "fig.basemap(region=gridBoundaries, projection='M15c', frame=[\"af\", f'WSne+t\"{title}\"'])\n",
    "\n",
    "fig.coast(shorelines=shorelines, borders=coast_border, water='skyblue', land='lightgray')  # draw coast over datawater='skyblue'\n",
    "\n",
    "vmin = 0\n",
    "vmax = 60\n",
    "pygmt.makecpt(\n",
    "    cmap=['seis'],\n",
    "    reverse=True,\n",
    "    series=[vmin, vmax],\n",
    "    no_bg=True,\n",
    "    \n",
    "    )\n",
    "\n",
    "data_array = xr.DataArray(data=dt_2d, \n",
    "                          dims=['lat', 'lon'],\n",
    "                          coords=dict(lon=(['lon'], lons),\n",
    "                                      lat=(['lat'], lats)))\n",
    "\n",
    "masked_data_array = xr.where((data_array < vmin) | (data_array > vmax), np.nan, data_array)\n",
    "\n",
    "fig.grdimage(grid=masked_data_array,\n",
    "             projection='M15c',\n",
    "             region=gridBoundaries,\n",
    "             cmap=True, \n",
    "             transparency=40)\n",
    "\n",
    "# lons_2d, lats_2d = np.meshgrid(lons, lats)\n",
    "# fig.plot(\n",
    "#     x=lons_2d.flatten(),\n",
    "#     y=lats_2d.flatten(),\n",
    "#     style='c+0.05c',\n",
    "#     cmap=True,\n",
    "#     color=detection_times\n",
    "# )\n",
    "\n",
    "fig.plot(  # Plot seismic stations as triangles\n",
    "    x=stations['lon'],\n",
    "    y=stations['lat'],\n",
    "    style='t+0.2c',\n",
    "    color='white',\n",
    "    pen='black',\n",
    ")\n",
    "\n",
    "fig.colorbar(\n",
    "    position='g170/63+w4c/0.5c+v',\n",
    "    frame=['x','ya5f2.5+lS']\n",
    "    \n",
    ")\n",
    "\n",
    "fig.show()\n",
    "fig.savefig(f'Figures/misc/detection time map {depth} km depth.pdf')"
   ]
  },
  {
   "cell_type": "code",
   "execution_count": null,
   "id": "d05bfa74-a790-43c3-a295-7a7c890c7907",
   "metadata": {},
   "outputs": [],
   "source": [
    "gridBoundaries = f'{min_lon-0.5}/{max_lon+0.5}/{min_lat-0.5}/{max_lat+0.5}'\n",
    "title = f\"Detection Times at {depth} km Depth\"\n",
    "coast_border = \"a/0.5p,brown\"\n",
    "shorelines = \"0.3p,black\"\n",
    "fig = pygmt.Figure()\n",
    "# fig.basemap(region='170/49/-128/73+r', projection='M15c', frame=[\"af\", f'WSne+t\"{title}\"'])\n",
    "fig.basemap(region=gridBoundaries, projection='M15c', frame=[\"af\", f'WSne+t\"{title}\"'])\n",
    "\n",
    "fig.coast(shorelines=shorelines, borders=coast_border, water='skyblue', land='lightgray')  # draw coast over datawater='skyblue'\n",
    "\n",
    "pygmt.makecpt(\n",
    "    transparency=75,\n",
    "    cmap=['seis'],\n",
    "    reverse=True,\n",
    "    series=[0, 60]  # np.max(p[2, :])\n",
    ")\n",
    "data_array = xr.DataArray(data=dt_2d, \n",
    "                          dims=['lat', 'lon'],\n",
    "                          coords=dict(lon=(['lon'], lons),\n",
    "                                      lat=(['lat'], lats)))\n",
    "fig.grdimage(grid=data_array,\n",
    "             projection='M15c',\n",
    "             region=gridBoundaries,\n",
    "             cmap=True)\n",
    "\n",
    "fig.plot(  # Plot seismic stations as triangles\n",
    "    x=stations['lon'],\n",
    "    y=stations['lat'],\n",
    "    style='t+0.3c',\n",
    "    color='white',\n",
    "    pen='black',\n",
    ")\n",
    "\n",
    "fig.show()\n",
    "fig.savefig(f'Figures/misc/detection time map {depth} km depth.pdf')"
   ]
  },
  {
   "cell_type": "code",
   "execution_count": null,
   "id": "efa046ff-da7c-4a46-b00d-ef85681029b5",
   "metadata": {
    "tags": []
   },
   "outputs": [],
   "source": [
    "# sta_lats = np.array(stations['lat'])\n",
    "# sta_lons = np.array(stations['lon'])\n",
    "# print(np.array(stations['lon']).shape)\n",
    "# num_p = len(grid_lons)\n",
    "# num_sta = len(sta_lons)\n",
    "# grid_lons_2D = np.reshape(grid_lons, (num_p, 1))\n",
    "# grid_lats_2D = np.reshape(grid_lats, (num_p, 1))\n",
    "\n",
    "# sta_lons_2D = np.zeros(shape=(num_p, num_sta))\n",
    "# sta_lats_2D = np.zeros(shape=(num_p, num_sta))\n",
    "# for i in range(num_p):\n",
    "#     sta_lons_2D[i,:] = sta_lons\n",
    "#     sta_lats_2D[i,:] = sta_lats\n",
    "# print(grid_lons_2D.shape)\n",
    "# print(sta_lons_2D.shape)"
   ]
  }
 ],
 "metadata": {
  "kernelspec": {
   "display_name": "Python 3 (ipykernel)",
   "language": "python",
   "name": "python3"
  },
  "language_info": {
   "codemirror_mode": {
    "name": "ipython",
    "version": 3
   },
   "file_extension": ".py",
   "mimetype": "text/x-python",
   "name": "python",
   "nbconvert_exporter": "python",
   "pygments_lexer": "ipython3",
   "version": "3.9.18"
  }
 },
 "nbformat": 4,
 "nbformat_minor": 5
}
